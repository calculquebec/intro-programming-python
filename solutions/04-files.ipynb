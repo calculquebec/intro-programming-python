{
 "cells": [
  {
   "cell_type": "markdown",
   "metadata": {},
   "source": [
    "# Programming with Python\n",
    "## Analyzing Data from Multiple Files\n",
    "Questions\n",
    "* How can I do the same operations on many different files?\n",
    "\n",
    "Objectives\n",
    "* Use a library function to get a list of filenames that match a simple wildcard pattern.\n",
    "* Use a `for` loop to process multiple files."
   ]
  },
  {
   "cell_type": "markdown",
   "metadata": {},
   "source": [
    "## Using `glob`"
   ]
  },
  {
   "cell_type": "code",
   "execution_count": null,
   "metadata": {},
   "outputs": [],
   "source": [
    "# Import the glob module\n",
    "import glob"
   ]
  },
  {
   "cell_type": "code",
   "execution_count": null,
   "metadata": {},
   "outputs": [],
   "source": [
    "# Get and print the list of all CSV files\n",
    "print(glob.glob('../data/inflammation*.csv'))"
   ]
  },
  {
   "cell_type": "markdown",
   "metadata": {},
   "source": [
    "## Loading Files in Sorted Order"
   ]
  },
  {
   "cell_type": "code",
   "execution_count": null,
   "metadata": {},
   "outputs": [],
   "source": [
    "import numpy\n",
    "import matplotlib.pyplot as plt"
   ]
  },
  {
   "cell_type": "code",
   "execution_count": null,
   "metadata": {},
   "outputs": [],
   "source": [
    "# Get the first three file names from a sorted list\n",
    "filenames = sorted(glob.glob('../data/inflammation*.csv'))\n",
    "filenames = filenames[:3]"
   ]
  },
  {
   "cell_type": "code",
   "execution_count": null,
   "metadata": {},
   "outputs": [],
   "source": [
    "# For each file name\n",
    "for filename in filenames:\n",
    "    # Print the name\n",
    "    print(filename)\n",
    "\n",
    "    # Load the data with the current file name\n",
    "    data = numpy.loadtxt(fname=filename, delimiter=',')\n",
    "\n",
    "    # Create and show the figure with three sub-figures\n",
    "    fig = plt.figure(figsize=(10.0, 3.0))\n",
    "\n",
    "    axes1 = fig.add_subplot(1, 3, 1)\n",
    "    axes2 = fig.add_subplot(1, 3, 2)\n",
    "    axes3 = fig.add_subplot(1, 3, 3)\n",
    "\n",
    "    axes1.set_ylabel('Average')\n",
    "    axes1.plot(numpy.mean(data, axis=0))\n",
    "\n",
    "    axes2.set_ylabel('Max')\n",
    "    axes2.plot(numpy.max(data, axis=0))\n",
    "\n",
    "    axes3.set_ylabel('Min')\n",
    "    axes3.plot(numpy.min(data, axis=0))\n",
    "\n",
    "    fig.tight_layout()\n",
    "    plt.show()"
   ]
  },
  {
   "cell_type": "markdown",
   "metadata": {},
   "source": [
    "### Exercise - Plotting All Mean Values\n",
    "By using the sorted list of `inflammation*.csv` files, fill a\n",
    "NumPy 2D array with average values for each day and for each file.\n",
    "Display the final result as an image."
   ]
  },
  {
   "cell_type": "code",
   "execution_count": null,
   "metadata": {},
   "outputs": [],
   "source": [
    "filenames = sorted(glob.glob('../data/inflammation*.csv'))\n",
    "all_mean_values = numpy.zeros( (len(filenames), 40) )\n",
    "\n",
    "# For each file\n",
    "for i in range(len(filenames)):\n",
    "    # Read the data from file\n",
    "    data = numpy.loadtxt(fname=filenames[i], delimiter=',')\n",
    "    # Compute daily mean values and assign to a whole row\n",
    "    all_mean_values[i, :] = numpy.mean(data, axis=0)\n",
    "\n",
    "# Create the image\n",
    "image = plt.imshow(all_mean_values)\n",
    "\n",
    "plt.xlabel('Day #')\n",
    "plt.ylabel('Group #')\n",
    "plt.title('Daily average of each group of patients')\n",
    "\n",
    "plt.show()"
   ]
  },
  {
   "cell_type": "markdown",
   "metadata": {},
   "source": [
    "## Key points\n",
    "* `import glob`\n",
    "* `glob.glob(pattern)` to get a list of files\n",
    "  * Pattern example: `'file_*.txt'`\n",
    "* `sorted(list)` to get a sorted list\n",
    "* Use a `for`-loop to process one file at a time"
   ]
  },
  {
   "cell_type": "code",
   "execution_count": null,
   "metadata": {},
   "outputs": [],
   "source": []
  }
 ],
 "metadata": {
  "anaconda-cloud": {},
  "kernelspec": {
   "display_name": "Python 3 (ipykernel)",
   "language": "python",
   "name": "python3"
  },
  "language_info": {
   "codemirror_mode": {
    "name": "ipython",
    "version": 3
   },
   "file_extension": ".py",
   "mimetype": "text/x-python",
   "name": "python",
   "nbconvert_exporter": "python",
   "pygments_lexer": "ipython3",
   "version": "3.10.5"
  }
 },
 "nbformat": 4,
 "nbformat_minor": 4
}
