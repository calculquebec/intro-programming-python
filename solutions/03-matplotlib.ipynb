{
 "cells": [
  {
   "cell_type": "markdown",
   "metadata": {},
   "source": [
    "# Programming with Python\n",
    "## Analyzing Patient Data\n",
    "Questions\n",
    "* How can I visualize tabular data in Python?\n",
    "\n",
    "Objectives\n",
    "* Display simple graphs."
   ]
  },
  {
   "cell_type": "markdown",
   "metadata": {},
   "source": [
    "## Loading data into Python"
   ]
  },
  {
   "cell_type": "code",
   "execution_count": null,
   "metadata": {},
   "outputs": [],
   "source": [
    "# Import NumPy\n",
    "import numpy"
   ]
  },
  {
   "cell_type": "code",
   "execution_count": null,
   "metadata": {},
   "outputs": [],
   "source": [
    "# Load the tabular data\n",
    "data = numpy.loadtxt(fname='../data/inflammation-01.csv', delimiter=',')"
   ]
  },
  {
   "cell_type": "markdown",
   "metadata": {},
   "source": [
    "## Creating Plots\n",
    "We are going to use the Matplotlib library in order to generate\n",
    "some plots. Many examples are\n",
    "[available online](https://matplotlib.org/stable/gallery/index)\n",
    "to illustrate various visualization options."
   ]
  },
  {
   "cell_type": "code",
   "execution_count": null,
   "metadata": {},
   "outputs": [],
   "source": [
    "# Import the Pyplot module from the Matplotlib library\n",
    "import matplotlib.pyplot as plt"
   ]
  },
  {
   "cell_type": "code",
   "execution_count": null,
   "metadata": {},
   "outputs": [],
   "source": [
    "# Get an overview of all inflammation values\n",
    "image = plt.imshow(data)\n",
    "plt.show()"
   ]
  },
  {
   "cell_type": "code",
   "execution_count": null,
   "metadata": {},
   "outputs": [],
   "source": [
    "# Prepare the processed data before the visualization\n",
    "daily_average = numpy.mean(data, axis=0)\n",
    "\n",
    "ave_plot = plt.plot(daily_average)\n",
    "plt.show()"
   ]
  },
  {
   "cell_type": "markdown",
   "metadata": {},
   "source": [
    "### Exercise - Make Your Own Plot\n",
    "Create a plot showing the standard deviation (`numpy.std()`) of the inflammation data for each day across all patients"
   ]
  },
  {
   "cell_type": "code",
   "execution_count": null,
   "metadata": {},
   "outputs": [],
   "source": [
    "std_plot = plt.plot(numpy.std(data, axis=0))\n",
    "plt.show()"
   ]
  },
  {
   "cell_type": "markdown",
   "metadata": {},
   "source": [
    "## Subplots"
   ]
  },
  {
   "cell_type": "code",
   "execution_count": null,
   "metadata": {},
   "outputs": [],
   "source": [
    "# Global figure\n",
    "fig = plt.figure(figsize=(3 * 3.5, 3.0))\n",
    "\n",
    "# Three sub-figures\n",
    "axes1 = fig.add_subplot(1, 3, 1)\n",
    "axes2 = fig.add_subplot(1, 3, 2)\n",
    "axes3 = fig.add_subplot(1, 3, 3)\n",
    "\n",
    "# Creation of three plots, one per sub-figure\n",
    "axes1.set_ylabel('Average')\n",
    "axes1.plot(numpy.mean(data, axis=0))\n",
    "\n",
    "axes2.set_ylabel('Max')\n",
    "axes2.plot(numpy.max(data, axis=0))\n",
    "\n",
    "axes3.set_ylabel('Min')\n",
    "axes3.plot(numpy.min(data, axis=0))\n",
    "\n",
    "# Automatic layout of the contents\n",
    "fig.tight_layout()\n",
    "\n",
    "plt.show()"
   ]
  },
  {
   "cell_type": "markdown",
   "metadata": {},
   "source": [
    "## Key points\n",
    "* Matplotlib is one of the multiple visualization libraries\n",
    "  made for Python\n",
    "* `import matplotlib.pyplot as plt`\n",
    "* `image = plt.imshow(data)`\n",
    "* `plot = plt.plot(data)`\n",
    "* `fig = plt.figure()`\n",
    "  * `axes = fig.add_subplot(n_rows, n_cols, index)`\n",
    "  * `axes.set_xlabel('Name X')`\n",
    "  * `axes.set_ylabel('Name Y')`\n",
    "  * `axes.plot(data)`\n",
    "* `plt.show()`"
   ]
  },
  {
   "cell_type": "code",
   "execution_count": null,
   "metadata": {},
   "outputs": [],
   "source": []
  }
 ],
 "metadata": {
  "anaconda-cloud": {},
  "kernelspec": {
   "display_name": "Python 3 (ipykernel)",
   "language": "python",
   "name": "python3"
  },
  "language_info": {
   "codemirror_mode": {
    "name": "ipython",
    "version": 3
   },
   "file_extension": ".py",
   "mimetype": "text/x-python",
   "name": "python",
   "nbconvert_exporter": "python",
   "pygments_lexer": "ipython3",
   "version": "3.10.5"
  }
 },
 "nbformat": 4,
 "nbformat_minor": 4
}
