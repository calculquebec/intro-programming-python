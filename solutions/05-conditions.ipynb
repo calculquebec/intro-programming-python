{
 "cells": [
  {
   "cell_type": "markdown",
   "metadata": {},
   "source": [
    "# Programming with Python\n",
    "## Making Choices\n",
    "Questions\n",
    "* How can my programs do different things based on data values?\n",
    "\n",
    "Objectives\n",
    "* Write conditional statements including `if`, `elif`, and `else` branches.\n",
    "* Correctly evaluate expressions containing `and` and `or`."
   ]
  },
  {
   "cell_type": "markdown",
   "metadata": {},
   "source": [
    "## Conditionals"
   ]
  },
  {
   "cell_type": "code",
   "execution_count": null,
   "metadata": {},
   "outputs": [],
   "source": [
    "number = 37\n",
    "\n",
    "if number < 100:\n",
    "    print('Smaller')\n",
    "else:\n",
    "    print('Not smaller')\n",
    "print('Done')"
   ]
  },
  {
   "cell_type": "markdown",
   "metadata": {},
   "source": [
    "![If num greater than 100](../fig/condition-100.svg)"
   ]
  },
  {
   "cell_type": "markdown",
   "metadata": {},
   "source": [
    "### Exercise in group - How Many Paths?\n",
    "Which of the following would be printed if you were to run this code?\n",
    "1. `A`\n",
    "1. `B`\n",
    "1. `C`\n",
    "1. `B` and `C`"
   ]
  },
  {
   "cell_type": "code",
   "execution_count": null,
   "metadata": {},
   "outputs": [],
   "source": [
    "value = 3.333333333333333\n",
    "threshold = 10 / 3\n",
    "\n",
    "if value > threshold:\n",
    "    print('A')\n",
    "elif value == threshold:\n",
    "    print('B')\n",
    "elif value <= threshold:\n",
    "    print('C')"
   ]
  },
  {
   "cell_type": "markdown",
   "metadata": {},
   "source": [
    "### Exercise - [Sinc function](https://en.wikipedia.org/wiki/Sinc_function)\n",
    "The sinc function is basically defined as `sin(x) / x`. We know the\n",
    "function tends to `1` when `x` tends to `0`, but because of\n",
    "the division by 0, this case must be addressed differently:\n",
    "* With the help of the Python built-in function `abs()`, we want the\n",
    "  result to be `1.0` for any value of `x` in the interval of `0 ± 0.000001`\n",
    "* For any other value of `x`, `sin(x) / x` is computed normally"
   ]
  },
  {
   "cell_type": "code",
   "execution_count": null,
   "metadata": {},
   "outputs": [],
   "source": [
    "# Import sin() function from the math library\n",
    "from math import sin"
   ]
  },
  {
   "cell_type": "code",
   "execution_count": null,
   "metadata": {},
   "outputs": [],
   "source": [
    "center_value = 0\n",
    "epsilon = 0.000001\n",
    "\n",
    "x = -0.0000010000000000000001\n",
    "\n",
    "if abs(x - center_value) <= epsilon:\n",
    "    sinc_x = 1.0\n",
    "else:\n",
    "    sinc_x = sin(x) / x\n",
    "\n",
    "print(f'sinc({x}) = {sinc_x}')"
   ]
  },
  {
   "cell_type": "markdown",
   "metadata": {},
   "source": [
    "### Exercise in group - What Is Truth?\n",
    "* With numbers:"
   ]
  },
  {
   "cell_type": "code",
   "execution_count": null,
   "metadata": {},
   "outputs": [],
   "source": [
    "if 0:\n",
    "    print('Zero is true')\n",
    "if 2**0:\n",
    "    print(2**0, 'is true')"
   ]
  },
  {
   "cell_type": "markdown",
   "metadata": {},
   "source": [
    "* With strings"
   ]
  },
  {
   "cell_type": "code",
   "execution_count": null,
   "metadata": {},
   "outputs": [],
   "source": [
    "if '':\n",
    "    print('Empty string is true')\n",
    "if 'False':\n",
    "    print('Any word is true')"
   ]
  },
  {
   "cell_type": "markdown",
   "metadata": {},
   "source": [
    "* With lists"
   ]
  },
  {
   "cell_type": "code",
   "execution_count": null,
   "metadata": {},
   "outputs": [],
   "source": [
    "if []:\n",
    "    print('Nmpty list is true')\n",
    "if [False, False, False]:\n",
    "    print('Non-empty list is true')"
   ]
  },
  {
   "cell_type": "markdown",
   "metadata": {},
   "source": [
    "## Boolean Operators"
   ]
  },
  {
   "cell_type": "code",
   "execution_count": null,
   "metadata": {},
   "outputs": [],
   "source": [
    "if not False:\n",
    "    print('not False is true')\n",
    "if not not True:\n",
    "    print('not not True is true')"
   ]
  },
  {
   "cell_type": "code",
   "execution_count": null,
   "metadata": {},
   "outputs": [],
   "source": [
    "if not '':\n",
    "    print('Empty string is not true')\n",
    "if not 'False':\n",
    "    print('Any word is not true')"
   ]
  },
  {
   "cell_type": "code",
   "execution_count": null,
   "metadata": {},
   "outputs": [],
   "source": [
    "x = 1\n",
    "\n",
    "# True inside the interval [-1,1[\n",
    "if (x >= -1) and (x < 1):\n",
    "    print('Both parts are true')\n",
    "else:\n",
    "    print('At least one part is false')"
   ]
  },
  {
   "cell_type": "code",
   "execution_count": null,
   "metadata": {},
   "outputs": [],
   "source": [
    "# True outside the interval [-1,1[\n",
    "if (x < -1) or (x >= 1):\n",
    "    print('At least one part is true')"
   ]
  },
  {
   "cell_type": "markdown",
   "metadata": {},
   "source": [
    "## Checking our Data"
   ]
  },
  {
   "cell_type": "code",
   "execution_count": null,
   "metadata": {},
   "outputs": [],
   "source": [
    "import numpy"
   ]
  },
  {
   "cell_type": "code",
   "execution_count": null,
   "metadata": {},
   "outputs": [],
   "source": [
    "filename = '../data/inflammation-01.csv'  # Also try 03\n",
    "\n",
    "# Load the data for the current file name\n",
    "data = numpy.loadtxt(fname=filename, delimiter=',')"
   ]
  },
  {
   "cell_type": "code",
   "execution_count": null,
   "metadata": {},
   "outputs": [],
   "source": [
    "max_inflammation_0 = numpy.max(data, axis=0)[0]\n",
    "max_inflammation_20 = numpy.max(data, axis=0)[20]\n",
    "\n",
    "if (max_inflammation_0 == 0) and (max_inflammation_20 == 20):\n",
    "    print('Suspicious looking maxima!')\n",
    "elif numpy.sum(numpy.min(data, axis=0)) == 0:\n",
    "    print('Minima add up to zero!')\n",
    "else:\n",
    "    print('Seems OK!')"
   ]
  },
  {
   "cell_type": "markdown",
   "metadata": {},
   "source": [
    "## Key points\n",
    "* **Conditional statements**:\n",
    "  * `if (condition):`\n",
    "  * `elif (condition):`\n",
    "  * `else:`\n",
    "  * Indentation is also important\n",
    "* **Comparison operators** :\n",
    "  * `<`, `<=`, `==`, `!=`, `>=`, `>`\n",
    "  * `is None`, `is not None`\n",
    "* **Boolean operators** :\n",
    "  * `not`, `and`, `or`\n",
    "  * Use `(` and `)` for each conditional part\n",
    "* **Boolean values** :\n",
    "  * `False`: `0`, `''`, `[]`\n",
    "  * `True`: `123`, `'word'`, `['not empty']`"
   ]
  },
  {
   "cell_type": "code",
   "execution_count": null,
   "metadata": {},
   "outputs": [],
   "source": []
  }
 ],
 "metadata": {
  "anaconda-cloud": {},
  "kernelspec": {
   "display_name": "Python 3 (ipykernel)",
   "language": "python",
   "name": "python3"
  },
  "language_info": {
   "codemirror_mode": {
    "name": "ipython",
    "version": 3
   },
   "file_extension": ".py",
   "mimetype": "text/x-python",
   "name": "python",
   "nbconvert_exporter": "python",
   "pygments_lexer": "ipython3",
   "version": "3.10.0"
  }
 },
 "nbformat": 4,
 "nbformat_minor": 4
}
