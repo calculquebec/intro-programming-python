{
 "cells": [
  {
   "cell_type": "markdown",
   "metadata": {},
   "source": [
    "# PYT101 - Introduction to programming with Python\n",
    "## About this workshop\n",
    "\n",
    "The workshop material is adapted from the tutorial\n",
    "[Software Carpentry - Programming with Python](https://swcarpentry.github.io/python-novice-inflammation/).\n",
    "\n",
    "Note: the *notebooks* used in this workshop and the corresponding data are [published on GitHub](https://github.com/calculquebec/intro-programming-python)."
   ]
  },
  {
   "cell_type": "markdown",
   "metadata": {},
   "source": [
    "### Table of contents\n",
    "1. [Python Fundamentals](01-python.ipynb)\n",
    "1. [Analyzing Tabular Data](02-numpy.ipynb)\n",
    "1. [Visualizing Data](03-matplotlib.ipynb)\n",
    "1. [Analyzing Data from Multiple Files](04-files.ipynb)\n",
    "1. [Making Choices](05-conditions.ipynb)\n",
    "1. [Creating Functions](06-functions.ipynb)\n",
    "1. [Errors and Exceptions](07-errors.ipynb)"
   ]
  },
  {
   "cell_type": "markdown",
   "metadata": {},
   "source": [
    "### Data Format\n",
    "The data contains the number of inflammation flare-ups per day for 60 patients over 40 days.\n",
    "![Workshop and data overview](fig/lesson-overview.svg)\n",
    "*Image adapted from the tutorial [Software Carpentry - Programming with Python](https://swcarpentry.github.io/python-novice-inflammation/fig/lesson-overview.svg)*"
   ]
  },
  {
   "cell_type": "markdown",
   "metadata": {},
   "source": [
    "### How to Use Jupyter\n",
    "When a cell is in edit mode:\n",
    "\n",
    "  Shortcut  | Description\n",
    "----------- | -----------\n",
    "Shift+Enter | Run the cell, and go to the next\n",
    "Tab         | Indent code or auto-completion\n",
    "Esc         | Go to command mode\n",
    "\n",
    "When a cell is in command mode:\n",
    "\n",
    "  Shortcut   | Description\n",
    "------------ | -----------\n",
    "Shift+Enter  | Run the cell, and go to the next\n",
    "Double-click | Go to edit mode\n",
    "Enter        | Go to edit mode\n",
    "\n",
    "  Shortcut   | Description\n",
    "------------ | -----------\n",
    "A            | Insert a cell above\n",
    "B            | Insert a cell below\n",
    "C            | Copy the current cell\n",
    "V            | Paste the cell below\n",
    "D D          | Delete the current cell\n",
    "M            | Change to Markdown cell\n",
    "Y            | Change to Code cell\n",
    "\n",
    "To reset all cells:\n",
    "* Go to the top menu, and select Kernel -> Restart & Clear Output"
   ]
  },
  {
   "cell_type": "code",
   "execution_count": null,
   "metadata": {},
   "outputs": [],
   "source": [
    "# Press Shift+Enter to execute this cell\n",
    "1 + 2"
   ]
  },
  {
   "cell_type": "markdown",
   "metadata": {},
   "source": [
    "### References\n",
    "Python modules:\n",
    "* [Matplotlib](https://matplotlib.org/stable/index.html)\n",
    "* [Numpy](https://numpy.org/doc/stable/)\n",
    "\n",
    "Development environments and tools for Python:\n",
    "* [JupyterLab](https://docs.alliancecan.ca/wiki/JupyterHub) on JupyterHub instances\n",
    "* [Spyder](https://www.spyder-ide.org)\n",
    "* [Visual Studio Code](https://code.visualstudio.com)\n",
    "\n",
    "Training:\n",
    "* Future workshops by [Calcul Québec](https://www.eventbrite.ca/o/calcul-quebec-8295332683)\n",
    "  and by [the Alliance Federation](https://alliancecan.ca/en/services/advanced-research-computing/technical-support/training-calendar)\n",
    "* Online tutorials by [Software Carpentry](https://software-carpentry.org/lessons/)\n",
    "  and [Data Carpentry](https://datacarpentry.org/lessons/)"
   ]
  },
  {
   "cell_type": "code",
   "execution_count": null,
   "metadata": {},
   "outputs": [],
   "source": []
  }
 ],
 "metadata": {
  "anaconda-cloud": {},
  "kernelspec": {
   "display_name": "Python 3 (ipykernel)",
   "language": "python",
   "name": "python3"
  },
  "language_info": {
   "codemirror_mode": {
    "name": "ipython",
    "version": 3
   },
   "file_extension": ".py",
   "mimetype": "text/x-python",
   "name": "python",
   "nbconvert_exporter": "python",
   "pygments_lexer": "ipython3",
   "version": "3.10.5"
  }
 },
 "nbformat": 4,
 "nbformat_minor": 4
}
