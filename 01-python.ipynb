{
 "cells": [
  {
   "cell_type": "markdown",
   "metadata": {},
   "source": [
    "# Programming with Python\n",
    "## Python Fundamentals\n",
    "Questions\n",
    "* What are the basics in Python?\n",
    "\n",
    "Objectives\n",
    "* Assign values to variables.\n",
    "* Use `for` loops for repeated actions\n",
    "* Trace changes to variables as the loop runs.\n",
    "* Create and index lists of simple values.\n",
    "* Change the content of lists\n",
    "* Select individual values and subsections from data."
   ]
  },
  {
   "cell_type": "markdown",
   "metadata": {},
   "source": [
    "## Variables"
   ]
  },
  {
   "cell_type": "code",
   "execution_count": null,
   "metadata": {},
   "outputs": [],
   "source": [
    "# Like a calculator\n"
   ]
  },
  {
   "cell_type": "code",
   "execution_count": null,
   "metadata": {},
   "outputs": [],
   "source": [
    "# Assigning a value to a variable\n",
    "weight_kg\n",
    "weight_kg"
   ]
  },
  {
   "cell_type": "markdown",
   "metadata": {},
   "source": [
    "### Types of data\n",
    "* integer numbers,\n",
    "* floating point numbers, and\n",
    "* strings."
   ]
  },
  {
   "cell_type": "code",
   "execution_count": null,
   "metadata": {},
   "outputs": [],
   "source": [
    "weight_kg\n",
    "weight_kg"
   ]
  },
  {
   "cell_type": "code",
   "execution_count": null,
   "metadata": {},
   "outputs": [],
   "source": [
    "Weight in kilograms:\n",
    "text_kg"
   ]
  },
  {
   "cell_type": "markdown",
   "metadata": {},
   "source": [
    "### Using Variables in Python"
   ]
  },
  {
   "cell_type": "code",
   "execution_count": null,
   "metadata": {},
   "outputs": [],
   "source": [
    "# Printing a variable explicitly\n"
   ]
  },
  {
   "cell_type": "code",
   "execution_count": null,
   "metadata": {},
   "outputs": [],
   "source": [
    "# Printing many variables\n",
    "(weight_kg)"
   ]
  },
  {
   "cell_type": "code",
   "execution_count": null,
   "metadata": {},
   "outputs": [],
   "source": [
    "# Printing temporary values\n",
    "print('Weight in pounds:', weight_kg)"
   ]
  },
  {
   "cell_type": "code",
   "execution_count": null,
   "metadata": {},
   "outputs": [],
   "source": [
    "# Variable unchanged if not assigned\n",
    "(weight_kg)"
   ]
  },
  {
   "cell_type": "code",
   "execution_count": null,
   "metadata": {},
   "outputs": [],
   "source": [
    "# Changing the value of a variable\n",
    "weight_kg\n",
    "print('Weight in kilograms is now:', weight_kg)"
   ]
  },
  {
   "cell_type": "markdown",
   "metadata": {},
   "source": [
    "![Variable as a sticky note](fig/label-variable-01.svg)"
   ]
  },
  {
   "cell_type": "code",
   "execution_count": null,
   "metadata": {},
   "outputs": [],
   "source": [
    "# There are 2.2 pounds per kilogram\n",
    "weight_lb\n",
    "print(text_kg, weight_kg)\n",
    "print('Weight in pounds:', )"
   ]
  },
  {
   "cell_type": "markdown",
   "metadata": {},
   "source": [
    "![Two variables](fig/label-variable-02.svg)"
   ]
  },
  {
   "cell_type": "code",
   "execution_count": null,
   "metadata": {},
   "outputs": [],
   "source": [
    "weight_kg =\n",
    "print('Weight in kilograms is now:', weight_kg)\n",
    "print('Weight in pounds is still:', weight_lb)"
   ]
  },
  {
   "cell_type": "markdown",
   "metadata": {},
   "source": [
    "![Independant variables](fig/label-variable-03.svg)"
   ]
  },
  {
   "cell_type": "markdown",
   "metadata": {},
   "source": [
    "### Exercise - Variables\n",
    "* In the first cell below, there are two values assigned to two\n",
    "  variables. Run this first cell.\n",
    "* In the second cell, write and execute some code to exchange values\n",
    "  between both variables created in the first cell."
   ]
  },
  {
   "cell_type": "code",
   "execution_count": null,
   "metadata": {},
   "outputs": [],
   "source": [
    "valueA = 'kPa'\n",
    "valueB = 102.03"
   ]
  },
  {
   "cell_type": "code",
   "execution_count": null,
   "metadata": {},
   "outputs": [],
   "source": [
    "# Exchange values\n",
    "\n",
    "valueA =\n",
    "valueB =\n",
    "\n",
    "print(valueA, valueB)  # Do not modify this line"
   ]
  },
  {
   "cell_type": "markdown",
   "metadata": {},
   "source": [
    "## Repeated Actions\n",
    "For a fixed number of repeated actions, what happens if we change the input string?"
   ]
  },
  {
   "cell_type": "code",
   "execution_count": null,
   "metadata": {},
   "outputs": [],
   "source": []
  },
  {
   "cell_type": "code",
   "execution_count": null,
   "metadata": {},
   "outputs": [],
   "source": [
    "print()\n",
    "print(word[])\n",
    "print(word[])\n",
    "print(word[])"
   ]
  },
  {
   "cell_type": "markdown",
   "metadata": {},
   "source": [
    "### Using Loops\n",
    "Loops syntax:\n",
    "```Python\n",
    "for variable in collection:\n",
    "    # Do things using variable, such as print()\n",
    "```"
   ]
  },
  {
   "cell_type": "code",
   "execution_count": null,
   "metadata": {},
   "outputs": [],
   "source": [
    "word = 'lead'\n",
    "\n",
    "    print(char)"
   ]
  },
  {
   "cell_type": "markdown",
   "metadata": {},
   "source": [
    "### Modifying Variables in a Loop"
   ]
  },
  {
   "cell_type": "code",
   "execution_count": null,
   "metadata": {},
   "outputs": [],
   "source": [
    "\n",
    "for vowel in 'aeiou':\n",
    "    \n",
    "print('There are', , 'vowels')"
   ]
  },
  {
   "cell_type": "code",
   "execution_count": null,
   "metadata": {},
   "outputs": [],
   "source": [
    "print(('aeiou'))"
   ]
  },
  {
   "cell_type": "code",
   "execution_count": null,
   "metadata": {},
   "outputs": [],
   "source": [
    "letter =\n",
    "for letter in :\n",
    "    print(letter)\n",
    "print('After the loop, letter is:', )"
   ]
  },
  {
   "cell_type": "markdown",
   "metadata": {},
   "source": [
    "### Exercise - Reverse a String\n",
    "Knowing that two strings can be concatenated using the `+` operator,\n",
    "write a loop that takes a string and produces a new string with the\n",
    "characters in reverse order, so `'Newton'` becomes `'notweN'`."
   ]
  },
  {
   "cell_type": "code",
   "execution_count": null,
   "metadata": {},
   "outputs": [],
   "source": [
    "name = 'Newton'\n",
    "result = ''\n",
    "\n",
    "for char in :\n",
    "    result =\n",
    "\n",
    "print(result)"
   ]
  },
  {
   "cell_type": "markdown",
   "metadata": {},
   "source": [
    "### Exercise in group - Using `range()`\n",
    "```Python\n",
    "for i in range(3):        # 0, 1, 2\n",
    "for i in range(2, 5):     # 2, 3, 4\n",
    "for i in range(3, 9, 2):  # 3, 5, 7\n",
    "```\n",
    "But how can we get only values of 10, 8, 6, 4 with `range()`?"
   ]
  },
  {
   "cell_type": "code",
   "execution_count": null,
   "metadata": {},
   "outputs": [],
   "source": [
    "for  in :\n",
    "    print(i)"
   ]
  },
  {
   "cell_type": "markdown",
   "metadata": {},
   "source": [
    "## Lists in Python"
   ]
  },
  {
   "cell_type": "code",
   "execution_count": null,
   "metadata": {},
   "outputs": [],
   "source": [
    "\n",
    "print('Odds are:', odds)"
   ]
  },
  {
   "cell_type": "code",
   "execution_count": null,
   "metadata": {},
   "outputs": [],
   "source": [
    "print('First and last:',\n",
    "      odds,\n",
    "      odds)"
   ]
  },
  {
   "cell_type": "code",
   "execution_count": null,
   "metadata": {},
   "outputs": [],
   "source": [
    "for\n",
    "    print(number)"
   ]
  },
  {
   "cell_type": "markdown",
   "metadata": {},
   "source": [
    "### Modifying the Content of Lists"
   ]
  },
  {
   "cell_type": "code",
   "execution_count": null,
   "metadata": {},
   "outputs": [],
   "source": [
    "\n",
    "print('The list after adding a value:', odds)"
   ]
  },
  {
   "cell_type": "code",
   "execution_count": null,
   "metadata": {},
   "outputs": [],
   "source": [
    "\n",
    "print('The list after removing the first element:', odds)"
   ]
  },
  {
   "cell_type": "code",
   "execution_count": null,
   "metadata": {},
   "outputs": [],
   "source": [
    "odds = [1, 3, 5, 7]\n",
    "\n",
    "primes[\n",
    "#odds\n",
    "\n",
    "print('primes:', primes)\n",
    "print('odds:', odds)"
   ]
  },
  {
   "cell_type": "markdown",
   "metadata": {},
   "source": [
    "### Exercise (in group) - Creating a new list\n",
    "Use a `for`-loop to create a list of 10 *triangular* numbers\n",
    "(1, 1+2, 1+2+3, ..., 1+...+10).\n",
    "Hint: You can create an empty list like this:\n",
    "```Python\n",
    "my_list = []\n",
    "```"
   ]
  },
  {
   "cell_type": "code",
   "execution_count": null,
   "metadata": {},
   "outputs": [],
   "source": [
    "my_list =\n",
    "triangle_num = 0\n",
    "\n",
    "for i\n",
    "    triangle_num +=\n",
    "    my_list\n",
    "\n",
    "print(my_list)"
   ]
  },
  {
   "cell_type": "markdown",
   "metadata": {},
   "source": [
    "## Slices\n",
    "```Python\n",
    "a_slice = a_list_or_string[start:limit:step]\n",
    "```\n",
    "* If `start` is omitted, `0` is the default\n",
    "* If `limit` is omitted, `len(a_list_or_string)` is the default\n",
    "* If `step` is omitted, `1` is the default"
   ]
  },
  {
   "cell_type": "code",
   "execution_count": null,
   "metadata": {},
   "outputs": [],
   "source": [
    "word1 = 'Pain'\n",
    "word2 =\n",
    "print(word2)"
   ]
  },
  {
   "cell_type": "code",
   "execution_count": null,
   "metadata": {},
   "outputs": [],
   "source": [
    "string_for_slicing = \"Observation date: 2020-03-13\"\n",
    "string_for_slicing  # Extracting the date"
   ]
  },
  {
   "cell_type": "code",
   "execution_count": null,
   "metadata": {},
   "outputs": [],
   "source": [
    "a_list = [i**2 for i in range(20)]  # Quickly fill with 0^2 à 19^2\n",
    "a_list"
   ]
  },
  {
   "cell_type": "code",
   "execution_count": null,
   "metadata": {},
   "outputs": [],
   "source": [
    "elements = [[\"fluorine\", \"F\"],\n",
    "            [\"chlorine\", \"Cl\"],\n",
    "            [\"bromine\", \"Br\"],\n",
    "            [\"iodine\", \"I\"],\n",
    "            [\"astatine\", \"At\"]]\n",
    "\n",
    "for ele in\n",
    "    print(ele[], ':', ele[])"
   ]
  },
  {
   "cell_type": "markdown",
   "metadata": {},
   "source": [
    "### Exercises (in group) - Slicing Strings\n",
    "What would be the output?"
   ]
  },
  {
   "cell_type": "code",
   "execution_count": null,
   "metadata": {},
   "outputs": [],
   "source": [
    "element = 'oxygen'\n",
    "print(element[:])"
   ]
  },
  {
   "cell_type": "code",
   "execution_count": null,
   "metadata": {},
   "outputs": [],
   "source": [
    "print(element[1:-1])"
   ]
  },
  {
   "cell_type": "code",
   "execution_count": null,
   "metadata": {},
   "outputs": [],
   "source": [
    "print(element[3:3])"
   ]
  },
  {
   "cell_type": "markdown",
   "metadata": {},
   "source": [
    "## Key points\n",
    "* **Variables** - like labels on objects\n",
    "  * Assigning: `variable = object`\n",
    "  * In Python, a copy of an object is not done automatically\n",
    "* **Using `for` loops** - repetitive actions without code duplication\n",
    "  * `for variable in collection:`\n",
    "    * Indentation - uniform for the block of code\n",
    "* **Lists** - to store and manage a list of objects\n",
    "  * Initialization: `empty = []` and `values = ['one', 2, 3.0, [4]]`\n",
    "  * Adding one `object`: `list.append(object)`\n",
    "  * Adding objects from another list: `list.extend(other_list)`\n",
    "  * Deleting one object: `del list[index]`\n",
    "* **Slicing**\n",
    "  * Operators `:` or `::`\n",
    "  * Start index - 0 by default\n",
    "  * Limit index - until the end by default\n",
    "  * Step - 1 by default\n",
    "* (Extra) **Dictionaries**\n",
    "  * Set of pairs `key: value`\n",
    "  * Initialization: `empty = {}` and `numbers = {'one': 1, 'two': 2}`\n",
    "  * Accessing and assigning : `numbers['one'] = 1.0`\n",
    "  * Adding a pair `key: value`: `numbers[key] = value`"
   ]
  },
  {
   "cell_type": "code",
   "execution_count": null,
   "metadata": {},
   "outputs": [],
   "source": []
  }
 ],
 "metadata": {
  "anaconda-cloud": {},
  "kernelspec": {
   "display_name": "Python 3 (ipykernel)",
   "language": "python",
   "name": "python3"
  },
  "language_info": {
   "codemirror_mode": {
    "name": "ipython",
    "version": 3
   },
   "file_extension": ".py",
   "mimetype": "text/x-python",
   "name": "python",
   "nbconvert_exporter": "python",
   "pygments_lexer": "ipython3",
   "version": "3.10.5"
  }
 },
 "nbformat": 4,
 "nbformat_minor": 4
}
