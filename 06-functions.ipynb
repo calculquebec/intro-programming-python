{
 "cells": [
  {
   "cell_type": "markdown",
   "metadata": {},
   "source": [
    "# Programming with Python\n",
    "## Creating Functions\n",
    "Questions\n",
    "* How can I define new functions?\n",
    "* What’s the difference between defining and calling a function?\n",
    "* What happens when I call a function?\n",
    "\n",
    "Objectives\n",
    "* Define a function that takes parameters.\n",
    "* Return a value from a function.\n",
    "* Set default values for function parameters.\n",
    "* Explain why we should divide programs into small, single-purpose functions."
   ]
  },
  {
   "cell_type": "markdown",
   "metadata": {},
   "source": [
    "## Defining a Function\n",
    "![def fahr_to_celsius(temp)](fig/function-python.svg)"
   ]
  },
  {
   "cell_type": "code",
   "execution_count": null,
   "metadata": {},
   "outputs": [],
   "source": [
    "degF_to_degC\n",
    "((temp - 32) * (5/9))"
   ]
  },
  {
   "cell_type": "code",
   "execution_count": null,
   "metadata": {},
   "outputs": [],
   "source": [
    "print('Freezing point of water:', , 'C')\n",
    "print('Boiling point of water: ', , 'C')"
   ]
  },
  {
   "cell_type": "markdown",
   "metadata": {},
   "source": [
    "### Quiz in groupe - Scope of variables\n",
    "What is the output of the following code and why?"
   ]
  },
  {
   "cell_type": "markdown",
   "metadata": {},
   "source": [
    "```Python\n",
    "tempF = 212  # Boiling point of water\n",
    "tempC = -1\n",
    "\n",
    "def degF_to_degC(tempF):\n",
    "    tempC = ((tempF - 32) * (5/9))\n",
    "    return tempC\n",
    "\n",
    "print(degF_to_degC(32))  # Freezing point of water\n",
    "print(tempC)\n",
    "```"
   ]
  },
  {
   "cell_type": "markdown",
   "metadata": {},
   "source": [
    "## Tidying up\n",
    "The goal is to structure the code by creating short functions\n",
    "that are reusable and easy to test."
   ]
  },
  {
   "cell_type": "code",
   "execution_count": null,
   "metadata": {},
   "outputs": [],
   "source": [
    "import numpy\n",
    "import matplotlib.pyplot as plt"
   ]
  },
  {
   "cell_type": "code",
   "execution_count": null,
   "metadata": {},
   "outputs": [],
   "source": [
    "# The following code is from chapter 5\n",
    "    max_inflammation_0 = numpy.max(data, axis=0)[0]\n",
    "    max_inflammation_20 = numpy.max(data, axis=0)[20]\n",
    "\n",
    "    if (max_inflammation_0 == 0) and (max_inflammation_20 == 20):\n",
    "        print('Suspicious looking maxima!')\n",
    "    elif numpy.sum(numpy.min(data, axis=0)) == 0:\n",
    "        print('Minima add up to zero!')\n",
    "    else:\n",
    "        print('Seems OK!')"
   ]
  },
  {
   "cell_type": "code",
   "execution_count": null,
   "metadata": {},
   "outputs": [],
   "source": [
    "# The following code is from chapter 4\n",
    "    # Create and show the figure with three sub-figures\n",
    "    fig = plt.figure(figsize=(10.0, 3.0))\n",
    "\n",
    "    axes1 = fig.add_subplot(1, 3, 1)\n",
    "    axes2 = fig.add_subplot(1, 3, 2)\n",
    "    axes3 = fig.add_subplot(1, 3, 3)\n",
    "\n",
    "    axes1.set_ylabel('Average')\n",
    "    axes1.plot(numpy.mean(data, axis=0))\n",
    "\n",
    "    axes2.set_ylabel('Max')\n",
    "    axes2.plot(numpy.max(data, axis=0))\n",
    "\n",
    "    axes3.set_ylabel('Min')\n",
    "    axes3.plot(numpy.min(data, axis=0))\n",
    "\n",
    "    fig.tight_layout()\n",
    "    plt.show()"
   ]
  },
  {
   "cell_type": "code",
   "execution_count": null,
   "metadata": {},
   "outputs": [],
   "source": [
    "# Main code\n",
    "import glob\n",
    "filenames = sorted(glob.glob('../data/inflammation*.csv'))\n",
    "\n",
    "for\n",
    "    # Print the file name\n",
    "    print(filename)\n",
    "\n",
    "    # Load the data with the current file name\n",
    "    data = numpy.loadtxt(, delimiter=',')\n",
    "\n",
    "    # Data analysis in functions\n",
    "    \n",
    "    "
   ]
  },
  {
   "cell_type": "markdown",
   "metadata": {},
   "source": [
    "## Testing and Documenting Your Function"
   ]
  },
  {
   "cell_type": "code",
   "execution_count": null,
   "metadata": {},
   "outputs": [],
   "source": [
    "def rescale(input_array):\n",
    "    Takes an array as input, and returns a corresponding\n",
    "    array scaled so that 0 corresponds to the minimum and 1\n",
    "    to the maximum value of the input array.\n",
    "\n",
    "    Arguments:\n",
    "        input_array -- Array of numbers (not modified)\n",
    "    Returns:\n",
    "        A new array with normalized values\n",
    "    Examples:\n",
    "        >>> rescale(numpy.linspace(75, 115, 5))\n",
    "        \n",
    "    \n",
    "    lowest = numpy.min(input_array)\n",
    "    highest = numpy.max(input_array)\n",
    "\n",
    "    output_array = (input_array - lowest) / (highest - lowest)\n",
    "    return output_array"
   ]
  },
  {
   "cell_type": "code",
   "execution_count": null,
   "metadata": {},
   "outputs": [],
   "source": [
    "# A vector of 5 linear values from 75 to 115\n",
    "numbers = numpy.linspace(75, 115, 5)\n",
    "\n",
    "# Testing rescale() with this vector for documentation\n",
    "print(\"array =\", numbers)\n"
   ]
  },
  {
   "cell_type": "code",
   "execution_count": null,
   "metadata": {},
   "outputs": [],
   "source": [
    "# Get information about the function\n"
   ]
  },
  {
   "cell_type": "markdown",
   "metadata": {},
   "source": [
    "## Defining Defaults"
   ]
  },
  {
   "cell_type": "code",
   "execution_count": null,
   "metadata": {},
   "outputs": [],
   "source": [
    "# From numpy.loadtxt(fname='file.csv', delimiter=',')\n",
    "help(numpy)"
   ]
  },
  {
   "cell_type": "code",
   "execution_count": null,
   "metadata": {},
   "outputs": [],
   "source": [
    "def display(a, b, c):\n",
    "    print('a:', a, 'b:', b, 'c:', c)"
   ]
  },
  {
   "cell_type": "code",
   "execution_count": null,
   "metadata": {},
   "outputs": [],
   "source": [
    "print('No parameter:')\n"
   ]
  },
  {
   "cell_type": "code",
   "execution_count": null,
   "metadata": {},
   "outputs": [],
   "source": [
    "print('One parameter:')\n",
    "display()"
   ]
  },
  {
   "cell_type": "code",
   "execution_count": null,
   "metadata": {},
   "outputs": [],
   "source": [
    "print('Two parameters:')\n",
    "display()"
   ]
  },
  {
   "cell_type": "code",
   "execution_count": null,
   "metadata": {},
   "outputs": [],
   "source": [
    "print('Only setting the value of c')\n",
    "display()"
   ]
  },
  {
   "cell_type": "markdown",
   "metadata": {},
   "source": [
    "### Exercise - Mixing Default and Non-Default Parameters\n",
    "`1`. The following code will fail. Why? Fix the code."
   ]
  },
  {
   "cell_type": "code",
   "execution_count": null,
   "metadata": {},
   "outputs": [],
   "source": [
    "def numbers(one, two=2, three, four=4):\n",
    "    n = str(one) + str(two) + str(three) + str(four)\n",
    "    return n\n",
    "\n",
    "print(numbers(1, three=3))"
   ]
  },
  {
   "cell_type": "markdown",
   "metadata": {},
   "source": [
    "`2`. What does the following piece of code display when run?"
   ]
  },
  {
   "cell_type": "markdown",
   "metadata": {},
   "source": [
    "```Python\n",
    "def functionABC(a, b = 3, c = 6):\n",
    "    print('a: ', a, 'b: ', b, 'c:', c)\n",
    "\n",
    "functionABC(-1, 2)\n",
    "```"
   ]
  },
  {
   "cell_type": "markdown",
   "metadata": {},
   "source": [
    "1. `a:  b: 3 c: 6`\n",
    "1. `a: -1 b: 3 c: 6`\n",
    "1. `a: -1 b: 2 c: 6`\n",
    "1. `a:  b: -1 c: 2`"
   ]
  },
  {
   "cell_type": "markdown",
   "metadata": {},
   "source": [
    "### Exercise - Defining Defaults\n",
    "Rewrite the `rescale` function so that it scales data to lie between\n",
    "0.0 and 1.0 by default, but will allow the caller to specify\n",
    "`low_val` and `high_val` bounds if they want."
   ]
  },
  {
   "cell_type": "code",
   "execution_count": null,
   "metadata": {},
   "outputs": [],
   "source": [
    "def rescale(input_array):\n",
    "    '''Takes an array as input, and returns a corresponding\n",
    "    array scaled so that 0 corresponds to the minimum and 1\n",
    "    to the maximum value of the input array.\n",
    "\n",
    "    Arguments:\n",
    "        input_array -- Array of numbers (not modified)\n",
    "        low_val -- A number, typically a low value\n",
    "        high_val -- A number, typically a high value\n",
    "    Returns:\n",
    "        A new array with normalized values\n",
    "    Examples:\n",
    "        >>> rescale(numpy.linspace(75, 115, 5))\n",
    "        array([0.  , 0.25, 0.5 , 0.75, 1.  ])\n",
    "    '''\n",
    "    lowest = numpy.min(input_array)\n",
    "    highest = numpy.max(input_array)\n",
    "\n",
    "    intermed_array = (input_array - lowest) / (highest - lowest)\n",
    "    output_array = intermed_array * ( - ) + low_val\n",
    "\n",
    "    return output_array"
   ]
  },
  {
   "cell_type": "code",
   "execution_count": null,
   "metadata": {},
   "outputs": [],
   "source": [
    "rescale(numpy.linspace(0, 100, 5))"
   ]
  },
  {
   "cell_type": "code",
   "execution_count": null,
   "metadata": {},
   "outputs": [],
   "source": [
    "rescale(numpy.linspace(0, 100, 5), high_val=40)"
   ]
  },
  {
   "cell_type": "code",
   "execution_count": null,
   "metadata": {},
   "outputs": [],
   "source": [
    "rescale(numpy.linspace(0, 100, 5), high_val=0, low_val=40)"
   ]
  },
  {
   "cell_type": "markdown",
   "metadata": {},
   "source": [
    "## Key points\n",
    "* **Structure of a function:**\n",
    "\n",
    "```Python\n",
    "def function_name(\n",
    "        arg1, arg2, arg_opt1=default_value1, arg_opt2=None):\n",
    "    '''Docstring - short description\n",
    "    Arguments:\n",
    "        arg1 -- description\n",
    "        arg2 -- description\n",
    "        arg_opt1 -- description\n",
    "        arg_opt2 -- description\n",
    "    Returns:\n",
    "        Object or tuple of objects -- description\n",
    "    Description:\n",
    "        More details\n",
    "    Examples:\n",
    "        >>> function_name(val1, val2)\n",
    "        ...\n",
    "    '''\n",
    "    if arg_opt2 is None:\n",
    "        arg_opt2 = default_value2\n",
    "\n",
    "    # Returns a tuple of 2 objects\n",
    "    return arg1 * arg2, arg_opt2 - arg_opt1\n",
    "```\n",
    "\n",
    "* **Calling the function:**\n",
    "\n",
    "```Python\n",
    "product, difference = function_name(val1, val2)\n",
    "tuple_2 = function_name(val1, val2, arg_opt2=0)\n",
    "```\n",
    "\n",
    "* **Dividing the code** in reusable and testable functions\n",
    "* **Documenting functions**"
   ]
  },
  {
   "cell_type": "code",
   "execution_count": null,
   "metadata": {},
   "outputs": [],
   "source": []
  }
 ],
 "metadata": {
  "anaconda-cloud": {},
  "kernelspec": {
   "display_name": "Python 3 (ipykernel)",
   "language": "python",
   "name": "python3"
  },
  "language_info": {
   "codemirror_mode": {
    "name": "ipython",
    "version": 3
   },
   "file_extension": ".py",
   "mimetype": "text/x-python",
   "name": "python",
   "nbconvert_exporter": "python",
   "pygments_lexer": "ipython3",
   "version": "3.10.5"
  }
 },
 "nbformat": 4,
 "nbformat_minor": 4
}
